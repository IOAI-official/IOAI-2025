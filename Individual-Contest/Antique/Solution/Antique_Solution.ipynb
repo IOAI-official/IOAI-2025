{
 "cells": [
  {
   "cell_type": "markdown",
   "id": "7c130e37-a029-4011-b741-14adb0bc15bb",
   "metadata": {},
   "source": [
    "[IOAI 2025 (Beijing, China), Individual Contest](https://ioai-official.org/china-2025)\n",
    "\n",
    "[![Open In Colab](https://colab.research.google.com/assets/colab-badge.svg)](https://colab.research.google.com/github/IOAI-official/IOAI-2025/blob/main/Individual-Contest/Antique/Solution/Antique_Solution.ipynb)"
   ]
  },
  {
   "cell_type": "markdown",
   "id": "3ae71b15-8e97-4896-90a2-000c9cd6e683",
   "metadata": {},
   "source": [
    "# Antique Painting Authentication: Reference Solution"
   ]
  },
  {
   "cell_type": "markdown",
   "id": "44bf0dce",
   "metadata": {},
   "source": [
    "## Step 1: Train Your Model"
   ]
  },
  {
   "cell_type": "code",
   "execution_count": null,
   "id": "03dae883",
   "metadata": {},
   "outputs": [],
   "source": [
    "import pandas as pd\n",
    "import numpy as np\n",
    "from sklearn.cluster import SpectralClustering\n",
    "from collections import Counter\n",
    "from sklearn.svm import SVC\n",
    "import os\n",
    "\n",
    "TRAIN_PATH = \"./training_set/\" # The address of trainig set\n",
    "\n",
    "#DATA_PATH is the secret environment variable to point the address of the validation set and test set on the testing machine. \n",
    "#You cannot access this address locally.\n",
    "if os.environ.get('DATA_PATH'):  \n",
    "    DATA_PATH = os.environ.get(\"DATA_PATH\") + \"/\" \n",
    "else:\n",
    "    DATA_PATH = \"\"  # Fallback for local testing\n",
    "\n",
    "train = pd.read_csv(TRAIN_PATH + \"training_set.csv\")\n",
    "\n",
    "X = np.array(train.iloc[:,:5])\n",
    "y = np.array(train.iloc[:,5])\n",
    "\n",
    "labeled_mask = y != 0\n",
    "unlabeled_mask = y == 0\n",
    "X_labeled = X[labeled_mask]\n",
    "y_labeled = y[labeled_mask]\n",
    "X_unlabeled = X[unlabeled_mask]\n",
    "\n",
    "n_clusters = 2\n",
    "spectral = SpectralClustering(n_clusters=n_clusters, affinity='rbf', gamma=10, random_state=42)\n",
    "cluster_labels = spectral.fit_predict(X) \n",
    "\n",
    "cluster_to_label = {}\n",
    "for cluster in range(n_clusters):\n",
    "\n",
    "    labeled_in_cluster = y_labeled[cluster_labels[labeled_mask] == cluster]\n",
    "\n",
    "    if len(labeled_in_cluster) > 0:\n",
    "        most_common_label = Counter(labeled_in_cluster).most_common(1)[0][0]\n",
    "        cluster_to_label[cluster] = most_common_label\n",
    "\n",
    "pseudo_labels = np.array([cluster_to_label[cluster] for cluster in cluster_labels])\n",
    "\n",
    "svm = SVC(kernel='rbf', C=1.0, gamma='scale', random_state=42)\n",
    "svm.fit(X, pseudo_labels)"
   ]
  },
  {
   "cell_type": "markdown",
   "id": "a2049ba4",
   "metadata": {},
   "source": [
    "## Step 2: Make Predictions on the Validation and Test Set"
   ]
  },
  {
   "cell_type": "code",
   "execution_count": null,
   "id": "c69d9d92",
   "metadata": {},
   "outputs": [],
   "source": [
    "testA = np.array(pd.read_csv(DATA_PATH + \"validation_set.csv\"))\n",
    "testB = np.array(pd.read_csv(DATA_PATH + \"test_set.csv\"))\n",
    "\n",
    "predA = svm.predict(testA)\n",
    "predB = svm.predict(testB)"
   ]
  },
  {
   "cell_type": "markdown",
   "id": "3e2141d8",
   "metadata": {},
   "source": [
    "## Step 3: Generate `submission.zip` for Submission"
   ]
  },
  {
   "cell_type": "code",
   "execution_count": null,
   "id": "342e6ddb",
   "metadata": {},
   "outputs": [],
   "source": [
    "import zipfile\n",
    "import os\n",
    "\n",
    "submissionA = pd.DataFrame(predA)\n",
    "submissionA.to_csv(\"./submissionA.csv\", index=False, header=False)\n",
    "\n",
    "submissionB = pd.DataFrame(predB)\n",
    "submissionB.to_csv(\"./submissionB.csv\", index=False, header=False)\n",
    "\n",
    "files_to_zip = ['./submissionA.csv', './submissionB.csv']\n",
    "zip_filename = 'submission.zip'\n",
    "\n",
    "with zipfile.ZipFile(zip_filename, 'w') as zipf:\n",
    "    for file in files_to_zip:\n",
    "        zipf.write(file, os.path.basename(file))\n",
    "\n",
    "print(f'{zip_filename} is created successfully!')"
   ]
  }
 ],
 "metadata": {
  "kernelspec": {
   "display_name": "Python 3 (ipykernel)",
   "language": "python",
   "name": "python3"
  },
  "language_info": {
   "codemirror_mode": {
    "name": "ipython",
    "version": 3
   },
   "file_extension": ".py",
   "mimetype": "text/x-python",
   "name": "python",
   "nbconvert_exporter": "python",
   "pygments_lexer": "ipython3",
   "version": "3.12.9"
  }
 },
 "nbformat": 4,
 "nbformat_minor": 5
}
